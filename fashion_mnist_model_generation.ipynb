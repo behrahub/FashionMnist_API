{
 "cells": [
  {
   "attachments": {},
   "cell_type": "markdown",
   "metadata": {
    "colab_type": "text",
    "id": "6wnGr8907JMD"
   },
   "source": [
    "# Build and host a Fashion MNIST CNN model as an API\n",
    "\n",
    "### The logic has been obtained from other blogs and papers on this topic. "
   ]
  },
  {
   "attachments": {},
   "cell_type": "markdown",
   "metadata": {
    "colab_type": "text",
    "id": "w-Y4oEFu7JME"
   },
   "source": [
    "#### Import the required libraries"
   ]
  },
  {
   "cell_type": "code",
   "execution_count": 1,
   "metadata": {
    "colab": {},
    "colab_type": "code",
    "id": "bvW2O89i7JMF"
   },
   "outputs": [
    {
     "data": {
      "text/plain": [
       "<contextlib.ExitStack at 0x1b5dacfe010>"
      ]
     },
     "execution_count": 1,
     "metadata": {},
     "output_type": "execute_result"
    }
   ],
   "source": [
    "import numpy as np\n",
    "from tensorflow import keras\n",
    "from tensorflow.keras import layers\n",
    "import matplotlib.pyplot as plt\n",
    "plt.ion()"
   ]
  },
  {
   "attachments": {},
   "cell_type": "markdown",
   "metadata": {
    "colab_type": "text",
    "id": "4pC4m8lt7JMK"
   },
   "source": [
    "#### Prepare the look up classifier labels"
   ]
  },
  {
   "cell_type": "code",
   "execution_count": 2,
   "metadata": {},
   "outputs": [],
   "source": [
    "id2class = {0: \"T-shirt/top\",\n",
    "            1: \"Trouser\",\n",
    "            2: \"Pullover\",\n",
    "            3: \"Dress\",\n",
    "            4: \"Coat\",\n",
    "            5: \"Sandal\",\n",
    "            6: \"Shirt\",\n",
    "            7: \"Sneaker\",\n",
    "            8: \"Bag\",\n",
    "            9: \"Ankle boot\",}"
   ]
  },
  {
   "cell_type": "code",
   "execution_count": 3,
   "metadata": {
    "colab": {
     "base_uri": "https://localhost:8080/",
     "height": 153
    },
    "colab_type": "code",
    "id": "gDG72D6j79w4",
    "outputId": "2c14c4d2-33e1-4ecf-bb79-d7a654d55397"
   },
   "outputs": [],
   "source": [
    "# Model / data parameters\n",
    "num_classes = 10\n",
    "input_shape = (28, 28, 1)\n",
    "\n",
    "# the data, split between train and test sets\n",
    "(x_train, y_train), (x_test, y_test) = keras.datasets.fashion_mnist.load_data()\n",
    "x_test_inf, y_test_inf = x_test.copy(), y_test.copy()"
   ]
  },
  {
   "cell_type": "code",
   "execution_count": 4,
   "metadata": {
    "colab": {
     "base_uri": "https://localhost:8080/",
     "height": 260
    },
    "colab_type": "code",
    "id": "cZzYlHJw8CNp",
    "outputId": "ec318317-788e-47e3-ed7b-d7e54a8a6854"
   },
   "outputs": [
    {
     "data": {
      "image/png": "[encoded data removed]",
      "text/plain": [
       "<Figure size 2200x400 with 5 Axes>"
      ]
     },
     "metadata": {},
     "output_type": "display_data"
    }
   ],
   "source": [
    "idx = np.random.randint(0, high=len(x_train), size=5)\n",
    "figs, axes = plt.subplots(ncols=5, figsize=(22, 4))\n",
    "for ax, i in zip(axes, idx): \n",
    "    ax.imshow(x_train[i], cmap='gray');\n",
    "    ax.set_title(id2class[y_train[i]])"
   ]
  },
  {
   "cell_type": "code",
   "execution_count": 5,
   "metadata": {
    "colab": {
     "base_uri": "https://localhost:8080/",
     "height": 68
    },
    "colab_type": "code",
    "id": "52_cpAtV7JML",
    "outputId": "e12a7c41-e34c-481f-8821-0d371b403584"
   },
   "outputs": [
    {
     "name": "stdout",
     "output_type": "stream",
     "text": [
      "x_train shape: (60000, 28, 28, 1)\n",
      "60000 train samples\n",
      "10000 test samples\n"
     ]
    }
   ],
   "source": [
    "# Scale images to the [0, 1] range\n",
    "x_train = x_train.astype(\"float32\") / 255\n",
    "x_test = x_test.astype(\"float32\") / 255\n",
    "# Make sure images have shape (28, 28, 1)\n",
    "x_train = np.expand_dims(x_train, -1)\n",
    "x_test = np.expand_dims(x_test, -1)\n",
    "print(\"x_train shape:\", x_train.shape)\n",
    "print(x_train.shape[0], \"train samples\")\n",
    "print(x_test.shape[0], \"test samples\")\n",
    "\n",
    "\n",
    "# convert class vectors to binary class matrices\n",
    "y_train = keras.utils.to_categorical(y_train, num_classes)\n",
    "y_test = keras.utils.to_categorical(y_test, num_classes)"
   ]
  },
  {
   "attachments": {},
   "cell_type": "markdown",
   "metadata": {
    "colab_type": "text",
    "id": "lvEJ0Lwp7JMO"
   },
   "source": [
    "#### Model building "
   ]
  },
  {
   "cell_type": "code",
   "execution_count": 6,
   "metadata": {
    "colab": {
     "base_uri": "https://localhost:8080/",
     "height": 391
    },
    "colab_type": "code",
    "id": "u8Gg1g8o7JMP",
    "outputId": "afb5b36d-5858-423e-a7bb-a25f462b6e5e"
   },
   "outputs": [
    {
     "name": "stdout",
     "output_type": "stream",
     "text": [
      "Model: \"sequential\"\n",
      "_________________________________________________________________\n",
      " Layer (type)                Output Shape              Param #   \n",
      "=================================================================\n",
      " conv2d (Conv2D)             (None, 26, 26, 32)        320       \n",
      "                                                                 \n",
      " max_pooling2d (MaxPooling2D  (None, 13, 13, 32)       0         \n",
      " )                                                               \n",
      "                                                                 \n",
      " conv2d_1 (Conv2D)           (None, 11, 11, 64)        18496     \n",
      "                                                                 \n",
      " max_pooling2d_1 (MaxPooling  (None, 5, 5, 64)         0         \n",
      " 2D)                                                             \n",
      "                                                                 \n",
      " flatten (Flatten)           (None, 1600)              0         \n",
      "                                                                 \n",
      " dropout (Dropout)           (None, 1600)              0         \n",
      "                                                                 \n",
      " dense (Dense)               (None, 10)                16010     \n",
      "                                                                 \n",
      "=================================================================\n",
      "Total params: 34,826\n",
      "Trainable params: 34,826\n",
      "Non-trainable params: 0\n",
      "_________________________________________________________________\n"
     ]
    }
   ],
   "source": [
    "\n",
    "model = keras.Sequential(\n",
    "    [\n",
    "        keras.Input(shape=input_shape),\n",
    "        layers.Conv2D(32, kernel_size=(3, 3), activation=\"relu\"),\n",
    "        layers.MaxPooling2D(pool_size=(2, 2)),\n",
    "        layers.Conv2D(64, kernel_size=(3, 3), activation=\"relu\"),\n",
    "        layers.MaxPooling2D(pool_size=(2, 2)),\n",
    "        #layers.Conv2D(16, kernel_size=(1, 1), activation=\"relu\"),\n",
    "        layers.Flatten(),\n",
    "        layers.Dropout(0.5),\n",
    "        layers.Dense(num_classes, activation=\"softmax\"),\n",
    "    ]\n",
    ")\n",
    "\n",
    "model.summary()\n"
   ]
  },
  {
   "attachments": {},
   "cell_type": "markdown",
   "metadata": {
    "colab_type": "text",
    "id": "lpAQqWoR7JMS"
   },
   "source": [
    "#### Train the CNN model with the training dataset. "
   ]
  },
  {
   "cell_type": "code",
   "execution_count": 7,
   "metadata": {
    "colab": {
     "base_uri": "https://localhost:8080/",
     "height": 136
    },
    "colab_type": "code",
    "id": "9NzGyTRrAmhN",
    "outputId": "fc4a3d96-517a-4e33-9e8d-38d7c62eb7fe"
   },
   "outputs": [
    {
     "name": "stdout",
     "output_type": "stream",
     "text": [
      "Epoch 1/5\n",
      "422/422 [==============================] - 13s 30ms/step - loss: 0.6924 - accuracy: 0.7518 - val_loss: 0.4397 - val_accuracy: 0.8440\n",
      "Epoch 2/5\n",
      "422/422 [==============================] - 13s 31ms/step - loss: 0.4510 - accuracy: 0.8383 - val_loss: 0.3839 - val_accuracy: 0.8650\n",
      "Epoch 3/5\n",
      "422/422 [==============================] - 13s 31ms/step - loss: 0.4029 - accuracy: 0.8560 - val_loss: 0.3472 - val_accuracy: 0.8727\n",
      "Epoch 4/5\n",
      "422/422 [==============================] - 13s 32ms/step - loss: 0.3733 - accuracy: 0.8677 - val_loss: 0.3274 - val_accuracy: 0.8793\n",
      "Epoch 5/5\n",
      "422/422 [==============================] - 13s 31ms/step - loss: 0.3521 - accuracy: 0.8739 - val_loss: 0.3180 - val_accuracy: 0.8815\n"
     ]
    },
    {
     "data": {
      "text/plain": [
       "<keras.callbacks.History at 0x1b5ce44dbd0>"
      ]
     },
     "execution_count": 7,
     "metadata": {},
     "output_type": "execute_result"
    }
   ],
   "source": [
    "batch_size = 128\n",
    "epochs = 5\n",
    "\n",
    "model.compile(loss=\"categorical_crossentropy\", optimizer=\"adam\", metrics=[\"accuracy\"])\n",
    "\n",
    "model.fit(x_train, y_train, batch_size=batch_size, epochs=epochs, validation_split=0.1)\n"
   ]
  },
  {
   "attachments": {},
   "cell_type": "markdown",
   "metadata": {
    "colab_type": "text",
    "id": "J2dLDSlX7JMX"
   },
   "source": [
    "#### Use the test dataset for model evaluation"
   ]
  },
  {
   "cell_type": "code",
   "execution_count": 8,
   "metadata": {
    "colab": {},
    "colab_type": "code",
    "id": "GLekYf8x7JMX"
   },
   "outputs": [
    {
     "name": "stdout",
     "output_type": "stream",
     "text": [
      "Test loss: 0.33589839935302734\n",
      "Test accuracy: 0.879800021648407\n"
     ]
    }
   ],
   "source": [
    "\n",
    "score = model.evaluate(x_test, y_test, verbose=0)\n",
    "print(\"Test loss:\", score[0])\n",
    "print(\"Test accuracy:\", score[1])\n"
   ]
  },
  {
   "attachments": {},
   "cell_type": "markdown",
   "metadata": {},
   "source": [
    "#### Save the model using Kera's save function"
   ]
  },
  {
   "cell_type": "code",
   "execution_count": 9,
   "metadata": {},
   "outputs": [
    {
     "name": "stderr",
     "output_type": "stream",
     "text": [
      "WARNING:absl:Found untraced functions such as _jit_compiled_convolution_op, _jit_compiled_convolution_op, _update_step_xla while saving (showing 3 of 3). These functions will not be directly callable after loading.\n"
     ]
    },
    {
     "name": "stdout",
     "output_type": "stream",
     "text": [
      "INFO:tensorflow:Assets written to: fashion_mnist\\assets\n"
     ]
    },
    {
     "name": "stderr",
     "output_type": "stream",
     "text": [
      "INFO:tensorflow:Assets written to: fashion_mnist\\assets\n"
     ]
    }
   ],
   "source": [
    "model.save(\"fashion_mnist\")"
   ]
  },
  {
   "attachments": {},
   "cell_type": "markdown",
   "metadata": {},
   "source": [
    "#### Model inference"
   ]
  },
  {
   "cell_type": "code",
   "execution_count": 10,
   "metadata": {},
   "outputs": [
    {
     "data": {
      "image/png": "[encoded data removed]",
      "text/plain": [
       "<Figure size 640x480 with 1 Axes>"
      ]
     },
     "metadata": {},
     "output_type": "display_data"
    }
   ],
   "source": [
    "idx = 1004\n",
    "im = x_test_inf[idx]\n",
    "plt.imshow(im, cmap=\"gray\")\n",
    "plt.title(id2class[y_test_inf[idx]]);"
   ]
  },
  {
   "cell_type": "code",
   "execution_count": 11,
   "metadata": {},
   "outputs": [
    {
     "data": {
      "text/plain": [
       "(1, 28, 28, 1)"
      ]
     },
     "execution_count": 11,
     "metadata": {},
     "output_type": "execute_result"
    }
   ],
   "source": [
    "im = im.astype(\"float32\") / 255\n",
    "im = np.expand_dims(im, -1)[None]\n",
    "im.shape"
   ]
  },
  {
   "cell_type": "code",
   "execution_count": 12,
   "metadata": {},
   "outputs": [
    {
     "name": "stdout",
     "output_type": "stream",
     "text": [
      "1/1 [==============================] - 0s 65ms/step\n"
     ]
    },
    {
     "data": {
      "text/plain": [
       "'Predicted Class: Shirt'"
      ]
     },
     "execution_count": 12,
     "metadata": {},
     "output_type": "execute_result"
    }
   ],
   "source": [
    "f\"Predicted Class: {id2class[np.argmax(model.predict(im))]}\""
   ]
  },
  {
   "cell_type": "code",
   "execution_count": 13,
   "metadata": {},
   "outputs": [
    {
     "name": "stdout",
     "output_type": "stream",
     "text": [
      "[[0, 0, 0, 0, 0, 0, 0, 0, 0, 0, 0, 24, 126, 81, 142, 119, 133, 0, 0, 0, 0, 0, 0, 2, 0, 0, 0, 0], [0, 0, 0, 0, 0, 0, 0, 0, 44, 96, 103, 138, 95, 174, 201, 146, 126, 118, 99, 38, 0, 0, 0, 1, 0, 0, 0, 0], [0, 0, 0, 0, 1, 0, 14, 118, 119, 155, 122, 149, 158, 136, 71, 57, 113, 75, 110, 150, 172, 11, 0, 1, 0, 0, 0, 0], [0, 0, 0, 0, 0, 0, 138, 102, 87, 85, 82, 119, 87, 107, 63, 44, 102, 49, 72, 94, 81, 155, 14, 0, 1, 0, 0, 0], [0, 0, 0, 0, 0, 30, 140, 87, 51, 90, 119, 76, 107, 82, 102, 138, 160, 126, 71, 93, 121, 183, 155, 0, 1, 0, 0, 0], [0, 0, 0, 0, 0, 39, 130, 127, 150, 108, 109, 112, 72, 70, 98, 117, 89, 52, 90, 126, 116, 104, 107, 0, 0, 0, 0, 0], [0, 0, 0, 0, 0, 82, 103, 122, 124, 81, 35, 150, 75, 99, 108, 70, 109, 94, 140, 104, 154, 142, 133, 0, 0, 0, 0, 0], [0, 0, 0, 0, 0, 56, 112, 117, 123, 196, 98, 65, 82, 119, 44, 77, 142, 52, 80, 102, 141, 140, 124, 2, 0, 0, 0, 0], [0, 0, 0, 0, 0, 89, 130, 140, 93, 75, 122, 154, 130, 118, 108, 38, 141, 141, 81, 131, 124, 138, 147, 16, 0, 0, 0, 0], [0, 0, 0, 0, 0, 154, 123, 177, 196, 68, 99, 122, 102, 43, 117, 126, 63, 75, 67, 114, 183, 158, 154, 8, 0, 0, 0, 0], [0, 0, 0, 0, 0, 81, 93, 109, 216, 61, 113, 85, 149, 137, 167, 104, 122, 170, 114, 149, 234, 116, 128, 40, 0, 0, 0, 0], [0, 0, 0, 0, 0, 135, 87, 141, 221, 76, 110, 116, 118, 80, 127, 119, 223, 142, 58, 112, 230, 116, 219, 62, 0, 0, 0, 0], [0, 0, 0, 0, 0, 145, 145, 119, 186, 141, 82, 108, 103, 79, 105, 72, 114, 28, 87, 118, 210, 158, 140, 110, 0, 0, 0, 0], [0, 0, 0, 0, 3, 90, 89, 187, 178, 57, 45, 196, 108, 93, 172, 102, 133, 121, 153, 144, 220, 103, 155, 107, 0, 0, 0, 0], [0, 0, 0, 0, 5, 135, 104, 149, 164, 173, 127, 66, 107, 123, 56, 71, 140, 118, 94, 71, 204, 147, 149, 114, 0, 0, 0, 0], [0, 0, 0, 0, 19, 160, 112, 170, 209, 123, 165, 133, 98, 160, 109, 81, 172, 56, 130, 124, 210, 131, 142, 119, 0, 0, 0, 0], [0, 0, 0, 0, 43, 137, 153, 173, 62, 81, 90, 165, 178, 62, 118, 15, 133, 182, 20, 147, 216, 182, 191, 156, 0, 0, 0, 0], [0, 0, 0, 0, 20, 114, 138, 155, 121, 124, 124, 82, 85, 150, 73, 98, 77, 68, 95, 77, 99, 179, 156, 99, 0, 0, 0, 0], [0, 0, 0, 0, 34, 118, 136, 211, 59, 90, 107, 130, 175, 108, 137, 124, 178, 212, 109, 107, 138, 237, 232, 138, 0, 0, 0, 0], [0, 0, 0, 0, 70, 191, 177, 200, 137, 124, 160, 119, 53, 31, 103, 165, 179, 66, 59, 98, 116, 238, 165, 181, 0, 0, 0, 0], [0, 0, 0, 0, 31, 110, 218, 184, 119, 161, 81, 141, 149, 126, 141, 59, 100, 84, 167, 177, 93, 254, 142, 107, 17, 0, 0, 0], [0, 0, 0, 0, 59, 105, 207, 212, 52, 128, 44, 201, 128, 84, 158, 132, 175, 110, 151, 87, 114, 219, 147, 158, 20, 0, 0, 0], [0, 0, 0, 0, 58, 131, 204, 196, 84, 247, 130, 63, 109, 147, 61, 52, 153, 107, 85, 133, 102, 205, 159, 119, 52, 0, 0, 0], [0, 0, 0, 0, 118, 155, 219, 151, 128, 110, 188, 141, 126, 124, 154, 76, 147, 123, 89, 186, 117, 150, 211, 132, 45, 0, 0, 0], [0, 0, 0, 0, 95, 126, 164, 72, 8, 44, 54, 91, 197, 68, 113, 116, 86, 177, 17, 87, 11, 53, 177, 94, 59, 0, 0, 0], [0, 0, 0, 0, 80, 76, 195, 0, 0, 0, 0, 0, 0, 0, 0, 0, 0, 0, 0, 0, 0, 39, 170, 174, 70, 0, 0, 0], [0, 0, 0, 0, 93, 138, 168, 1, 0, 3, 1, 0, 0, 0, 0, 0, 0, 1, 0, 3, 0, 71, 219, 114, 76, 0, 0, 0], [0, 0, 0, 0, 0, 28, 11, 0, 0, 0, 0, 0, 0, 0, 0, 0, 0, 0, 0, 0, 0, 0, 71, 7, 5, 0, 0, 0]]\n"
     ]
    }
   ],
   "source": [
    "print(x_test_inf[idx].tolist())"
   ]
  },
  {
   "cell_type": "markdown",
   "metadata": {},
   "source": [
    "For the below cell to work you must have a web app up-and-running and listening on port 5000"
   ]
  },
  {
   "cell_type": "code",
   "execution_count": 14,
   "metadata": {},
   "outputs": [
    {
     "name": "stdout",
     "output_type": "stream",
     "text": [
      "Prediction = Shirt\n"
     ]
    }
   ],
   "source": [
    "import requests\n",
    "import json\n",
    "\n",
    "im = x_test_inf[idx].tolist()\n",
    "data = {'image': im}\n",
    "URL = 'http://127.0.0.1:5000/predict'\n",
    "\n",
    "result = requests.post(URL, json.dumps(data))\n",
    "print(f\"Prediction = {result.text}\")"
   ]
  }
 ],
 "metadata": {
  "colab": {
   "collapsed_sections": [],
   "name": "mnist_convnet",
   "provenance": []
  },
  "kernelspec": {
   "display_name": "Python 3",
   "language": "python",
   "name": "python3"
  },
  "language_info": {
   "codemirror_mode": {
    "name": "ipython",
    "version": 3
   },
   "file_extension": ".py",
   "mimetype": "text/x-python",
   "name": "python",
   "nbconvert_exporter": "python",
   "pygments_lexer": "ipython3",
   "version": "3.11.1"
  },
  "vscode": {
   "interpreter": {
    "hash": "dcf8598664e919da8af4939927ec8105a369cffe86630f5f23b0d7a580808357"
   }
  }
 },
 "nbformat": 4,
 "nbformat_minor": 1
}
